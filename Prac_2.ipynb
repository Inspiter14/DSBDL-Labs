{
 "cells": [
  {
   "cell_type": "markdown",
   "id": "350fd77b-2b5e-4620-82cb-63ca67c76bea",
   "metadata": {},
   "source": [
    "<h2>Data Wrangling 2</h2>"
   ]
  },
  {
   "cell_type": "markdown",
   "id": "8938377a-b052-40b7-8f2f-a9f4d312e223",
   "metadata": {},
   "source": [
    "__1. Missing Values__"
   ]
  },
  {
   "cell_type": "code",
   "execution_count": 39,
   "id": "2bde505d-e42e-4fe7-baa9-d63f6ed435d9",
   "metadata": {},
   "outputs": [],
   "source": [
    "import pandas as pd\n",
    "import numpy as np\n",
    "import matplotlib.pyplot as plt\n",
    "import seaborn as sns\n",
    "from sklearn.preprocessing import MinMaxScaler"
   ]
  },
  {
   "cell_type": "code",
   "execution_count": 40,
   "id": "fb2787cb-d2bc-4bfb-9c49-0e871a227af8",
   "metadata": {},
   "outputs": [
    {
     "name": "stdout",
     "output_type": "stream",
     "text": [
      "     Unnamed: 0  symboling  normalized-losses         make aspiration  \\\n",
      "0             0          3                122  alfa-romero        std   \n",
      "1             1          3                122  alfa-romero        std   \n",
      "2             2          1                122  alfa-romero        std   \n",
      "3             3          2                164         audi        std   \n",
      "4             4          2                164         audi        std   \n",
      "..          ...        ...                ...          ...        ...   \n",
      "196         196         -1                 95        volvo        std   \n",
      "197         197         -1                 95        volvo      turbo   \n",
      "198         198         -1                 95        volvo        std   \n",
      "199         199         -1                 95        volvo      turbo   \n",
      "200         200         -1                 95        volvo      turbo   \n",
      "\n",
      "    num-of-doors   body-style drive-wheels engine-location  wheel-base  ...  \\\n",
      "0            two  convertible          rwd           front        88.6  ...   \n",
      "1            two  convertible          rwd           front        88.6  ...   \n",
      "2            two    hatchback          rwd           front        94.5  ...   \n",
      "3           four        sedan          fwd           front        99.8  ...   \n",
      "4           four        sedan          4wd           front        99.4  ...   \n",
      "..           ...          ...          ...             ...         ...  ...   \n",
      "196         four        sedan          rwd           front       109.1  ...   \n",
      "197         four        sedan          rwd           front       109.1  ...   \n",
      "198         four        sedan          rwd           front       109.1  ...   \n",
      "199         four        sedan          rwd           front       109.1  ...   \n",
      "200         four        sedan          rwd           front       109.1  ...   \n",
      "\n",
      "     compression-ratio  horsepower  peak-rpm  city-mpg highway-mpg    price  \\\n",
      "0                  9.0       111.0    5000.0        21          27  13495.0   \n",
      "1                  9.0       111.0    5000.0        21          27  16500.0   \n",
      "2                  9.0       154.0    5000.0        19          26  16500.0   \n",
      "3                 10.0       102.0    5500.0        24          30  13950.0   \n",
      "4                  8.0       115.0    5500.0        18          22  17450.0   \n",
      "..                 ...         ...       ...       ...         ...      ...   \n",
      "196                9.5       114.0    5400.0        23          28  16845.0   \n",
      "197                8.7       160.0    5300.0        19          25  19045.0   \n",
      "198                8.8       134.0    5500.0        18          23  21485.0   \n",
      "199               23.0       106.0    4800.0        26          27  22470.0   \n",
      "200                9.5       114.0    5400.0        19          25  22625.0   \n",
      "\n",
      "     city-L/100km horsepower-binned  diesel  gas  \n",
      "0       11.190476               Low       0    1  \n",
      "1       11.190476               Low       0    1  \n",
      "2       12.368421            Medium       0    1  \n",
      "3        9.791667               Low       0    1  \n",
      "4       13.055556               Low       0    1  \n",
      "..            ...               ...     ...  ...  \n",
      "196     10.217391               Low       0    1  \n",
      "197     12.368421            Medium       0    1  \n",
      "198     13.055556            Medium       0    1  \n",
      "199      9.038462               Low       1    0  \n",
      "200     12.368421               Low       0    1  \n",
      "\n",
      "[201 rows x 30 columns]\n"
     ]
    }
   ],
   "source": [
    "df = pd.read_csv('autodata.csv')\n",
    "print(df)"
   ]
  },
  {
   "cell_type": "code",
   "execution_count": 41,
   "id": "789bfab3-db23-4382-9eba-0575b3802b58",
   "metadata": {},
   "outputs": [
    {
     "data": {
      "text/html": [
       "<div>\n",
       "<style scoped>\n",
       "    .dataframe tbody tr th:only-of-type {\n",
       "        vertical-align: middle;\n",
       "    }\n",
       "\n",
       "    .dataframe tbody tr th {\n",
       "        vertical-align: top;\n",
       "    }\n",
       "\n",
       "    .dataframe thead th {\n",
       "        text-align: right;\n",
       "    }\n",
       "</style>\n",
       "<table border=\"1\" class=\"dataframe\">\n",
       "  <thead>\n",
       "    <tr style=\"text-align: right;\">\n",
       "      <th></th>\n",
       "      <th>Unnamed: 0</th>\n",
       "      <th>symboling</th>\n",
       "      <th>normalized-losses</th>\n",
       "      <th>make</th>\n",
       "      <th>aspiration</th>\n",
       "      <th>num-of-doors</th>\n",
       "      <th>body-style</th>\n",
       "      <th>drive-wheels</th>\n",
       "      <th>engine-location</th>\n",
       "      <th>wheel-base</th>\n",
       "      <th>...</th>\n",
       "      <th>compression-ratio</th>\n",
       "      <th>horsepower</th>\n",
       "      <th>peak-rpm</th>\n",
       "      <th>city-mpg</th>\n",
       "      <th>highway-mpg</th>\n",
       "      <th>price</th>\n",
       "      <th>city-L/100km</th>\n",
       "      <th>horsepower-binned</th>\n",
       "      <th>diesel</th>\n",
       "      <th>gas</th>\n",
       "    </tr>\n",
       "  </thead>\n",
       "  <tbody>\n",
       "    <tr>\n",
       "      <th>0</th>\n",
       "      <td>0</td>\n",
       "      <td>3</td>\n",
       "      <td>122</td>\n",
       "      <td>alfa-romero</td>\n",
       "      <td>std</td>\n",
       "      <td>two</td>\n",
       "      <td>convertible</td>\n",
       "      <td>rwd</td>\n",
       "      <td>front</td>\n",
       "      <td>88.6</td>\n",
       "      <td>...</td>\n",
       "      <td>9.0</td>\n",
       "      <td>111.0</td>\n",
       "      <td>5000.0</td>\n",
       "      <td>21</td>\n",
       "      <td>27</td>\n",
       "      <td>13495.0</td>\n",
       "      <td>11.190476</td>\n",
       "      <td>Low</td>\n",
       "      <td>0</td>\n",
       "      <td>1</td>\n",
       "    </tr>\n",
       "    <tr>\n",
       "      <th>1</th>\n",
       "      <td>1</td>\n",
       "      <td>3</td>\n",
       "      <td>122</td>\n",
       "      <td>alfa-romero</td>\n",
       "      <td>std</td>\n",
       "      <td>two</td>\n",
       "      <td>convertible</td>\n",
       "      <td>rwd</td>\n",
       "      <td>front</td>\n",
       "      <td>88.6</td>\n",
       "      <td>...</td>\n",
       "      <td>9.0</td>\n",
       "      <td>111.0</td>\n",
       "      <td>5000.0</td>\n",
       "      <td>21</td>\n",
       "      <td>27</td>\n",
       "      <td>16500.0</td>\n",
       "      <td>11.190476</td>\n",
       "      <td>Low</td>\n",
       "      <td>0</td>\n",
       "      <td>1</td>\n",
       "    </tr>\n",
       "    <tr>\n",
       "      <th>2</th>\n",
       "      <td>2</td>\n",
       "      <td>1</td>\n",
       "      <td>122</td>\n",
       "      <td>alfa-romero</td>\n",
       "      <td>std</td>\n",
       "      <td>two</td>\n",
       "      <td>hatchback</td>\n",
       "      <td>rwd</td>\n",
       "      <td>front</td>\n",
       "      <td>94.5</td>\n",
       "      <td>...</td>\n",
       "      <td>9.0</td>\n",
       "      <td>154.0</td>\n",
       "      <td>5000.0</td>\n",
       "      <td>19</td>\n",
       "      <td>26</td>\n",
       "      <td>16500.0</td>\n",
       "      <td>12.368421</td>\n",
       "      <td>Medium</td>\n",
       "      <td>0</td>\n",
       "      <td>1</td>\n",
       "    </tr>\n",
       "    <tr>\n",
       "      <th>3</th>\n",
       "      <td>3</td>\n",
       "      <td>2</td>\n",
       "      <td>164</td>\n",
       "      <td>audi</td>\n",
       "      <td>std</td>\n",
       "      <td>four</td>\n",
       "      <td>sedan</td>\n",
       "      <td>fwd</td>\n",
       "      <td>front</td>\n",
       "      <td>99.8</td>\n",
       "      <td>...</td>\n",
       "      <td>10.0</td>\n",
       "      <td>102.0</td>\n",
       "      <td>5500.0</td>\n",
       "      <td>24</td>\n",
       "      <td>30</td>\n",
       "      <td>13950.0</td>\n",
       "      <td>9.791667</td>\n",
       "      <td>Low</td>\n",
       "      <td>0</td>\n",
       "      <td>1</td>\n",
       "    </tr>\n",
       "    <tr>\n",
       "      <th>4</th>\n",
       "      <td>4</td>\n",
       "      <td>2</td>\n",
       "      <td>164</td>\n",
       "      <td>audi</td>\n",
       "      <td>std</td>\n",
       "      <td>four</td>\n",
       "      <td>sedan</td>\n",
       "      <td>4wd</td>\n",
       "      <td>front</td>\n",
       "      <td>99.4</td>\n",
       "      <td>...</td>\n",
       "      <td>8.0</td>\n",
       "      <td>115.0</td>\n",
       "      <td>5500.0</td>\n",
       "      <td>18</td>\n",
       "      <td>22</td>\n",
       "      <td>17450.0</td>\n",
       "      <td>13.055556</td>\n",
       "      <td>Low</td>\n",
       "      <td>0</td>\n",
       "      <td>1</td>\n",
       "    </tr>\n",
       "  </tbody>\n",
       "</table>\n",
       "<p>5 rows × 30 columns</p>\n",
       "</div>"
      ],
      "text/plain": [
       "   Unnamed: 0  symboling  normalized-losses         make aspiration  \\\n",
       "0           0          3                122  alfa-romero        std   \n",
       "1           1          3                122  alfa-romero        std   \n",
       "2           2          1                122  alfa-romero        std   \n",
       "3           3          2                164         audi        std   \n",
       "4           4          2                164         audi        std   \n",
       "\n",
       "  num-of-doors   body-style drive-wheels engine-location  wheel-base  ...  \\\n",
       "0          two  convertible          rwd           front        88.6  ...   \n",
       "1          two  convertible          rwd           front        88.6  ...   \n",
       "2          two    hatchback          rwd           front        94.5  ...   \n",
       "3         four        sedan          fwd           front        99.8  ...   \n",
       "4         four        sedan          4wd           front        99.4  ...   \n",
       "\n",
       "   compression-ratio  horsepower  peak-rpm  city-mpg highway-mpg    price  \\\n",
       "0                9.0       111.0    5000.0        21          27  13495.0   \n",
       "1                9.0       111.0    5000.0        21          27  16500.0   \n",
       "2                9.0       154.0    5000.0        19          26  16500.0   \n",
       "3               10.0       102.0    5500.0        24          30  13950.0   \n",
       "4                8.0       115.0    5500.0        18          22  17450.0   \n",
       "\n",
       "   city-L/100km horsepower-binned  diesel  gas  \n",
       "0     11.190476               Low       0    1  \n",
       "1     11.190476               Low       0    1  \n",
       "2     12.368421            Medium       0    1  \n",
       "3      9.791667               Low       0    1  \n",
       "4     13.055556               Low       0    1  \n",
       "\n",
       "[5 rows x 30 columns]"
      ]
     },
     "execution_count": 41,
     "metadata": {},
     "output_type": "execute_result"
    }
   ],
   "source": [
    "df.head()"
   ]
  },
  {
   "cell_type": "code",
   "execution_count": 42,
   "id": "32c13bf3-7860-4657-acb5-95157f2ade19",
   "metadata": {},
   "outputs": [
    {
     "data": {
      "text/plain": [
       "Unnamed: 0           0\n",
       "symboling            0\n",
       "normalized-losses    0\n",
       "make                 0\n",
       "aspiration           0\n",
       "num-of-doors         0\n",
       "body-style           0\n",
       "drive-wheels         0\n",
       "engine-location      0\n",
       "wheel-base           0\n",
       "length               0\n",
       "width                0\n",
       "height               0\n",
       "curb-weight          0\n",
       "engine-type          0\n",
       "num-of-cylinders     0\n",
       "engine-size          0\n",
       "fuel-system          0\n",
       "bore                 0\n",
       "stroke               4\n",
       "compression-ratio    0\n",
       "horsepower           2\n",
       "peak-rpm             2\n",
       "city-mpg             0\n",
       "highway-mpg          0\n",
       "price                0\n",
       "city-L/100km         0\n",
       "horsepower-binned    2\n",
       "diesel               0\n",
       "gas                  0\n",
       "dtype: int64"
      ]
     },
     "execution_count": 42,
     "metadata": {},
     "output_type": "execute_result"
    }
   ],
   "source": [
    "df.isnull().sum()"
   ]
  },
  {
   "cell_type": "code",
   "execution_count": 43,
   "id": "30c119b0-af7c-41ab-9358-b25a3d6ce31c",
   "metadata": {},
   "outputs": [
    {
     "data": {
      "image/png": "[encoded data removed]",
      "text/plain": [
       "<Figure size 1000x600 with 1 Axes>"
      ]
     },
     "metadata": {},
     "output_type": "display_data"
    },
    {
     "data": {
      "image/png": "[encoded data removed]",
      "text/plain": [
       "<Figure size 1000x600 with 1 Axes>"
      ]
     },
     "metadata": {},
     "output_type": "display_data"
    }
   ],
   "source": [
    "df['log_transformed_variable'] = np.log(df['length'] + 1)  # Adding 1 to handle zero values\n",
    "\n",
    "# Visualize the transformation\n",
    "plt.figure(figsize=(10, 6))\n",
    "sns.histplot(df['log_transformed_variable'], kde=True)\n",
    "plt.title(\"Histogram of Log-Transformed Variable\")\n",
    "plt.show()\n",
    "\n",
    "\n",
    "df['transformed_var'] = np.log(df['length']+1)\n",
    "plt.figure(figsize=(10,6))\n",
    "sns.histplot(df['transformed_var'],kde=False)\n",
    "plt.show()"
   ]
  },
  {
   "cell_type": "markdown",
   "id": "f7cc67b8-2258-48ad-aefa-0ff475fece6a",
   "metadata": {},
   "source": [
    "<h5>1.1 Dropping the column</h5>"
   ]
  },
  {
   "cell_type": "code",
   "execution_count": 44,
   "id": "844a4861-5c8a-4c68-b5f5-585d27c45271",
   "metadata": {},
   "outputs": [],
   "source": [
    "df.drop(columns=['horsepower-binned'],axis=0,inplace=True)"
   ]
  },
  {
   "cell_type": "markdown",
   "id": "712dd64b-0ded-40b7-bcbc-7464644a467f",
   "metadata": {},
   "source": [
    "<h5>1.2 Replacing the missing vals with mean/mode/median using replace method</h5>"
   ]
  },
  {
   "cell_type": "code",
   "execution_count": 45,
   "id": "d21abdf0-7102-4b65-bdf7-cbd58c9cbe89",
   "metadata": {},
   "outputs": [],
   "source": [
    "avg_stroke = df['stroke'].astype(\"float\").mean(axis=0)\n",
    "df['stroke'] = df['stroke'].replace(np.nan,avg_stroke)"
   ]
  },
  {
   "cell_type": "code",
   "execution_count": 46,
   "id": "914b8ce5-215e-4dac-824e-cce8c462b12c",
   "metadata": {},
   "outputs": [],
   "source": [
    "mode_horse = df['horsepower'].astype(\"float\").mode()\n",
    "fin_mode = mode_horse[0]\n",
    "df['horsepower'] = df['horsepower'].replace(np.nan,fin_mode)"
   ]
  },
  {
   "cell_type": "code",
   "execution_count": 47,
   "id": "f6497c0c-06db-4787-b173-9f0a997e2be7",
   "metadata": {},
   "outputs": [],
   "source": [
    "med_peakrpm = df['peak-rpm'].astype(\"float\").median()\n",
    "df['peak-rpm'] = df['peak-rpm'].replace(np.nan,med_peakrpm)"
   ]
  },
  {
   "cell_type": "code",
   "execution_count": 48,
   "id": "c84ee9a2-ee70-4f84-b0b4-d02b52687f8d",
   "metadata": {},
   "outputs": [
    {
     "data": {
      "text/plain": [
       "Unnamed: 0                  0\n",
       "symboling                   0\n",
       "normalized-losses           0\n",
       "make                        0\n",
       "aspiration                  0\n",
       "num-of-doors                0\n",
       "body-style                  0\n",
       "drive-wheels                0\n",
       "engine-location             0\n",
       "wheel-base                  0\n",
       "length                      0\n",
       "width                       0\n",
       "height                      0\n",
       "curb-weight                 0\n",
       "engine-type                 0\n",
       "num-of-cylinders            0\n",
       "engine-size                 0\n",
       "fuel-system                 0\n",
       "bore                        0\n",
       "stroke                      0\n",
       "compression-ratio           0\n",
       "horsepower                  0\n",
       "peak-rpm                    0\n",
       "city-mpg                    0\n",
       "highway-mpg                 0\n",
       "price                       0\n",
       "city-L/100km                0\n",
       "diesel                      0\n",
       "gas                         0\n",
       "log_transformed_variable    0\n",
       "transformed_var             0\n",
       "dtype: int64"
      ]
     },
     "execution_count": 48,
     "metadata": {},
     "output_type": "execute_result"
    }
   ],
   "source": [
    "df.isnull().sum()"
   ]
  },
  {
   "cell_type": "markdown",
   "id": "db660dfa-e253-4893-b8e2-1aa29c2707cc",
   "metadata": {},
   "source": [
    "__2. Outlier__"
   ]
  },
  {
   "cell_type": "markdown",
   "id": "41bea8d6-7a36-4e6b-9179-1cd6a1979655",
   "metadata": {},
   "source": [
    "<h5>* Detecting outliers</h5>\n",
    "<h5>outlier is an observation from the dataset that lies far from the other observation in the dataset. It is like an odd an out</h5>"
   ]
  },
  {
   "cell_type": "markdown",
   "id": "e7082b80-ae64-4375-b47b-45e1452eeeb4",
   "metadata": {},
   "source": [
    "1. To detect an outlier , we have following methods:\n",
    "    * box plot\n",
    "    * Scatterplot\n",
    "    * Z-Score\n",
    "    * Inter Quantile Range (IQR)"
   ]
  },
  {
   "cell_type": "markdown",
   "id": "d3e8fd9a-ae9a-44d8-bc87-17e85e648401",
   "metadata": {},
   "source": [
    "<h5>2.1 Boxplot</h5>"
   ]
  },
  {
   "cell_type": "code",
   "execution_count": 49,
   "id": "264070e3-7681-41ca-85b6-fd282c3f1ca6",
   "metadata": {},
   "outputs": [
    {
     "data": {
      "image/png": "[encoded data removed]",
      "text/plain": [
       "<Figure size 640x480 with 1 Axes>"
      ]
     },
     "metadata": {},
     "output_type": "display_data"
    }
   ],
   "source": [
    "plt.boxplot(df['city-mpg'])\n",
    "plt.title(\"Boxplot for column City-MPG\")\n",
    "plt.ylabel('Values')\n",
    "plt.show()"
   ]
  },
  {
   "cell_type": "code",
   "execution_count": 50,
   "id": "6a1b0c1c-17f2-4d28-ae62-ba62ba7a7fbe",
   "metadata": {},
   "outputs": [
    {
     "data": {
      "image/png": "[encoded data removed]",
      "text/plain": [
       "<Figure size 600x400 with 1 Axes>"
      ]
     },
     "metadata": {},
     "output_type": "display_data"
    }
   ],
   "source": [
    "data = {'values': [1, 2, 3, 4, 5, 6, 7, 8, 9, 20]}\n",
    "\n",
    "# Create DataFrame\n",
    "df = pd.DataFrame(data)\n",
    "\n",
    "# Create a boxplot\n",
    "plt.figure(figsize=(6, 4))\n",
    "plt.boxplot(df['values'])\n",
    "plt.title('Boxplot of Values')\n",
    "plt.ylabel('Values')\n",
    "plt.show()"
   ]
  },
  {
   "cell_type": "markdown",
   "id": "e70244f3-380b-4ea3-98da-897a303f206b",
   "metadata": {},
   "source": [
    "__2.2 Scatterplot__"
   ]
  },
  {
   "cell_type": "code",
   "execution_count": 51,
   "id": "03bd778d-e54e-4920-99fe-6461ecb08e31",
   "metadata": {},
   "outputs": [
    {
     "data": {
      "image/png": "[encoded data removed]",
      "text/plain": [
       "<Figure size 600x400 with 1 Axes>"
      ]
     },
     "metadata": {},
     "output_type": "display_data"
    }
   ],
   "source": [
    "# Example data\n",
    "data = {'x': [1, 2, 3, 4, 5, 6, 7, 8, 9, 10],\n",
    "        'y': [1, 2, 3, 4, 5, 6, 7, 8, 9, 20]}  # Including an outlier\n",
    "\n",
    "# Create DataFrame\n",
    "df = pd.DataFrame(data)\n",
    "\n",
    "# Create a scatterplot\n",
    "plt.figure(figsize=(6, 4))\n",
    "plt.scatter(df['x'], df['y'])\n",
    "plt.title('Scatterplot of X and Y')\n",
    "plt.xlabel('X')\n",
    "plt.ylabel('Y')\n",
    "plt.show()\n"
   ]
  },
  {
   "cell_type": "code",
   "execution_count": 52,
   "id": "e8b0cbe8-b796-403a-872b-32824742d243",
   "metadata": {},
   "outputs": [
    {
     "name": "stdout",
     "output_type": "stream",
     "text": [
      "Outliers:\n",
      "   values\n",
      "9     120\n"
     ]
    }
   ],
   "source": [
    "# Example data\n",
    "data = {'values': [1, 2, 3, 4, 5, 6, 7, 8, 9, 120]}\n",
    "\n",
    "# Create DataFrame\n",
    "df = pd.DataFrame(data)\n",
    "\n",
    "# Calculate z-scores\n",
    "z_scores = (df['values'] - df['values'].mean()) / df['values'].std()\n",
    "\n",
    "# Set threshold for outlier detection (e.g., z-score > 3)\n",
    "threshold = 2\n",
    "#Based on the z-scores, we can see if any points are more than 2 standard deviations away from the mean. \n",
    "\n",
    "# Find outliers\n",
    "outliers = df[np.abs(z_scores) > threshold]\n",
    "\n",
    "print(\"Outliers:\")\n",
    "print(outliers)\n"
   ]
  },
  {
   "cell_type": "code",
   "execution_count": 53,
   "id": "288031e6-11ee-4244-8446-474f4603d281",
   "metadata": {},
   "outputs": [
    {
     "name": "stdout",
     "output_type": "stream",
     "text": [
      "Outliers:\n",
      "   values\n",
      "9      20\n"
     ]
    }
   ],
   "source": [
    "# Example data\n",
    "data = {'values': [1, 2, 3, 4, 5, 6, 7, 8, 9, 20]}\n",
    "\n",
    "# Create DataFrame\n",
    "df = pd.DataFrame(data)\n",
    "\n",
    "# Calculate Q1 (25th percentile) and Q3 (75th percentile)\n",
    "Q1 = df['values'].quantile(0.25)\n",
    "Q3 = df['values'].quantile(0.75)\n",
    "\n",
    "# Calculate IQR (Interquartile Range)\n",
    "IQR = Q3 - Q1\n",
    "\n",
    "# Set lower and upper bounds for outlier detection\n",
    "lower_bound = Q1 - 1.5 * IQR\n",
    "upper_bound = Q3 + 1.5 * IQR\n",
    "\n",
    "# Find outliers\n",
    "outliers = df[(df['values'] < lower_bound) | (df['values'] > upper_bound)]\n",
    "\n",
    "print(\"Outliers:\")\n",
    "print(outliers)\n"
   ]
  },
  {
   "cell_type": "markdown",
   "id": "8adcdadd-0b8d-4f52-9e64-7ec0bb7c0fb8",
   "metadata": {},
   "source": [
    "<h5>* Dealing with Outlier</h5>"
   ]
  },
  {
   "cell_type": "markdown",
   "id": "9eed23a5-7571-4a7e-907e-645a73cce9df",
   "metadata": {},
   "source": [
    "__2.1 Trimming/Removing the Outlier__"
   ]
  },
  {
   "cell_type": "code",
   "execution_count": 54,
   "id": "2ee75924-6448-4722-937f-09b774f70c14",
   "metadata": {},
   "outputs": [
    {
     "name": "stdout",
     "output_type": "stream",
     "text": [
      "   values\n",
      "0       1\n",
      "1       2\n",
      "2       3\n",
      "3       4\n",
      "4       5\n",
      "5       6\n",
      "6       7\n",
      "7       8\n",
      "8       9\n"
     ]
    }
   ],
   "source": [
    "data = {'values': [1,2,3,4,5,6,7,8,9,10]} \n",
    "df = pd.DataFrame(df)  #with outlier\n",
    "\n",
    "Q1 = df['values'].quantile(0.25)\n",
    "Q3 = df['values'].quantile(0.75)\n",
    "\n",
    "IQR = Q3 - Q1\n",
    "\n",
    "lower_bound = Q1 - 1.5 * IQR\n",
    "upper_bound = Q3 + 1.5 * IQR\n",
    "\n",
    "trimmed_df = df[ (df['values'] >=lower_bound) & (df['values'] <= upper_bound)  ] #removing outliers\n",
    "\n",
    "print(trimmed_df) # without outlier"
   ]
  },
  {
   "cell_type": "code",
   "execution_count": 55,
   "id": "6e43b0a2-f23a-4273-989a-90a3914d9045",
   "metadata": {},
   "outputs": [
    {
     "data": {
      "image/png": "[encoded data removed]",
      "text/plain": [
       "<Figure size 640x480 with 1 Axes>"
      ]
     },
     "metadata": {},
     "output_type": "display_data"
    },
    {
     "name": "stderr",
     "output_type": "stream",
     "text": [
      "C:\\Users\\KARTIKI\\AppData\\Local\\Temp\\ipykernel_12396\\1709590179.py:9: FutureWarning: Setting an item of incompatible dtype is deprecated and will raise an error in a future version of pandas. Value '5.5' has dtype incompatible with int64, please explicitly cast to a compatible dtype first.\n",
      "  df.loc[df['values']>10,'values'] = median\n"
     ]
    },
    {
     "data": {
      "image/png": "[encoded data removed]",
      "text/plain": [
       "<Figure size 640x480 with 1 Axes>"
      ]
     },
     "metadata": {},
     "output_type": "display_data"
    },
    {
     "name": "stdout",
     "output_type": "stream",
     "text": [
      "DataFrame after outlier replacement:\n",
      "   values\n",
      "0     1.0\n",
      "1     2.0\n",
      "2     3.0\n",
      "3     4.0\n",
      "4     5.0\n",
      "5     6.0\n",
      "6     7.0\n",
      "7     8.0\n",
      "8     9.0\n",
      "9     5.5\n"
     ]
    }
   ],
   "source": [
    "data = {'values': [1,2,3,4,5,6,7,8,9,20]} \n",
    "df = pd.DataFrame(df)  #with outlier\n",
    "plt.boxplot(df['values'])\n",
    "plt.title(\"with outlier\")\n",
    "plt.show()\n",
    "\n",
    "median = df['values'].median()\n",
    "\n",
    "df.loc[df['values']>10,'values'] = median\n",
    "plt.boxplot(df['values'])\n",
    "plt.title('Boxplot of Values (after Outlier Replacement)')\n",
    "plt.show()\n",
    "\n",
    "print(\"DataFrame after outlier replacement:\")\n",
    "print(df)"
   ]
  },
  {
   "cell_type": "markdown",
   "id": "b1f3cc4a-5922-47ce-a588-52f3175af59a",
   "metadata": {},
   "source": [
    "__3. Data Transformating__"
   ]
  },
  {
   "cell_type": "code",
   "execution_count": 56,
   "id": "f9bb1fc7-6e4e-41f0-a208-2ce7d09d6ca1",
   "metadata": {},
   "outputs": [
    {
     "ename": "KeyError",
     "evalue": "'length'",
     "output_type": "error",
     "traceback": [
      "\u001b[1;31m---------------------------------------------------------------------------\u001b[0m",
      "\u001b[1;31mKeyError\u001b[0m                                  Traceback (most recent call last)",
      "File \u001b[1;32mC:\\Python312\\Lib\\site-packages\\pandas\\core\\indexes\\base.py:3805\u001b[0m, in \u001b[0;36mIndex.get_loc\u001b[1;34m(self, key)\u001b[0m\n\u001b[0;32m   3804\u001b[0m \u001b[38;5;28;01mtry\u001b[39;00m:\n\u001b[1;32m-> 3805\u001b[0m     \u001b[38;5;28;01mreturn\u001b[39;00m \u001b[38;5;28;43mself\u001b[39;49m\u001b[38;5;241;43m.\u001b[39;49m\u001b[43m_engine\u001b[49m\u001b[38;5;241;43m.\u001b[39;49m\u001b[43mget_loc\u001b[49m\u001b[43m(\u001b[49m\u001b[43mcasted_key\u001b[49m\u001b[43m)\u001b[49m\n\u001b[0;32m   3806\u001b[0m \u001b[38;5;28;01mexcept\u001b[39;00m \u001b[38;5;167;01mKeyError\u001b[39;00m \u001b[38;5;28;01mas\u001b[39;00m err:\n",
      "File \u001b[1;32mindex.pyx:167\u001b[0m, in \u001b[0;36mpandas._libs.index.IndexEngine.get_loc\u001b[1;34m()\u001b[0m\n",
      "File \u001b[1;32mindex.pyx:196\u001b[0m, in \u001b[0;36mpandas._libs.index.IndexEngine.get_loc\u001b[1;34m()\u001b[0m\n",
      "File \u001b[1;32mpandas\\\\_libs\\\\hashtable_class_helper.pxi:7081\u001b[0m, in \u001b[0;36mpandas._libs.hashtable.PyObjectHashTable.get_item\u001b[1;34m()\u001b[0m\n",
      "File \u001b[1;32mpandas\\\\_libs\\\\hashtable_class_helper.pxi:7089\u001b[0m, in \u001b[0;36mpandas._libs.hashtable.PyObjectHashTable.get_item\u001b[1;34m()\u001b[0m\n",
      "\u001b[1;31mKeyError\u001b[0m: 'length'",
      "\nThe above exception was the direct cause of the following exception:\n",
      "\u001b[1;31mKeyError\u001b[0m                                  Traceback (most recent call last)",
      "Cell \u001b[1;32mIn[56], line 1\u001b[0m\n\u001b[1;32m----> 1\u001b[0m df[\u001b[38;5;124m'\u001b[39m\u001b[38;5;124mlog_transformed_variable\u001b[39m\u001b[38;5;124m'\u001b[39m] \u001b[38;5;241m=\u001b[39m np\u001b[38;5;241m.\u001b[39mlog(\u001b[43mdf\u001b[49m\u001b[43m[\u001b[49m\u001b[38;5;124;43m'\u001b[39;49m\u001b[38;5;124;43mlength\u001b[39;49m\u001b[38;5;124;43m'\u001b[39;49m\u001b[43m]\u001b[49m \u001b[38;5;241m+\u001b[39m \u001b[38;5;241m1\u001b[39m)  \u001b[38;5;66;03m# Adding 1 to handle zero values\u001b[39;00m\n\u001b[0;32m      3\u001b[0m \u001b[38;5;66;03m# Visualize the transformation\u001b[39;00m\n\u001b[0;32m      4\u001b[0m plt\u001b[38;5;241m.\u001b[39mfigure(figsize\u001b[38;5;241m=\u001b[39m(\u001b[38;5;241m10\u001b[39m, \u001b[38;5;241m6\u001b[39m))\n",
      "File \u001b[1;32mC:\\Python312\\Lib\\site-packages\\pandas\\core\\frame.py:4102\u001b[0m, in \u001b[0;36mDataFrame.__getitem__\u001b[1;34m(self, key)\u001b[0m\n\u001b[0;32m   4100\u001b[0m \u001b[38;5;28;01mif\u001b[39;00m \u001b[38;5;28mself\u001b[39m\u001b[38;5;241m.\u001b[39mcolumns\u001b[38;5;241m.\u001b[39mnlevels \u001b[38;5;241m>\u001b[39m \u001b[38;5;241m1\u001b[39m:\n\u001b[0;32m   4101\u001b[0m     \u001b[38;5;28;01mreturn\u001b[39;00m \u001b[38;5;28mself\u001b[39m\u001b[38;5;241m.\u001b[39m_getitem_multilevel(key)\n\u001b[1;32m-> 4102\u001b[0m indexer \u001b[38;5;241m=\u001b[39m \u001b[38;5;28;43mself\u001b[39;49m\u001b[38;5;241;43m.\u001b[39;49m\u001b[43mcolumns\u001b[49m\u001b[38;5;241;43m.\u001b[39;49m\u001b[43mget_loc\u001b[49m\u001b[43m(\u001b[49m\u001b[43mkey\u001b[49m\u001b[43m)\u001b[49m\n\u001b[0;32m   4103\u001b[0m \u001b[38;5;28;01mif\u001b[39;00m is_integer(indexer):\n\u001b[0;32m   4104\u001b[0m     indexer \u001b[38;5;241m=\u001b[39m [indexer]\n",
      "File \u001b[1;32mC:\\Python312\\Lib\\site-packages\\pandas\\core\\indexes\\base.py:3812\u001b[0m, in \u001b[0;36mIndex.get_loc\u001b[1;34m(self, key)\u001b[0m\n\u001b[0;32m   3807\u001b[0m     \u001b[38;5;28;01mif\u001b[39;00m \u001b[38;5;28misinstance\u001b[39m(casted_key, \u001b[38;5;28mslice\u001b[39m) \u001b[38;5;129;01mor\u001b[39;00m (\n\u001b[0;32m   3808\u001b[0m         \u001b[38;5;28misinstance\u001b[39m(casted_key, abc\u001b[38;5;241m.\u001b[39mIterable)\n\u001b[0;32m   3809\u001b[0m         \u001b[38;5;129;01mand\u001b[39;00m \u001b[38;5;28many\u001b[39m(\u001b[38;5;28misinstance\u001b[39m(x, \u001b[38;5;28mslice\u001b[39m) \u001b[38;5;28;01mfor\u001b[39;00m x \u001b[38;5;129;01min\u001b[39;00m casted_key)\n\u001b[0;32m   3810\u001b[0m     ):\n\u001b[0;32m   3811\u001b[0m         \u001b[38;5;28;01mraise\u001b[39;00m InvalidIndexError(key)\n\u001b[1;32m-> 3812\u001b[0m     \u001b[38;5;28;01mraise\u001b[39;00m \u001b[38;5;167;01mKeyError\u001b[39;00m(key) \u001b[38;5;28;01mfrom\u001b[39;00m \u001b[38;5;21;01merr\u001b[39;00m\n\u001b[0;32m   3813\u001b[0m \u001b[38;5;28;01mexcept\u001b[39;00m \u001b[38;5;167;01mTypeError\u001b[39;00m:\n\u001b[0;32m   3814\u001b[0m     \u001b[38;5;66;03m# If we have a listlike key, _check_indexing_error will raise\u001b[39;00m\n\u001b[0;32m   3815\u001b[0m     \u001b[38;5;66;03m#  InvalidIndexError. Otherwise we fall through and re-raise\u001b[39;00m\n\u001b[0;32m   3816\u001b[0m     \u001b[38;5;66;03m#  the TypeError.\u001b[39;00m\n\u001b[0;32m   3817\u001b[0m     \u001b[38;5;28mself\u001b[39m\u001b[38;5;241m.\u001b[39m_check_indexing_error(key)\n",
      "\u001b[1;31mKeyError\u001b[0m: 'length'"
     ]
    }
   ],
   "source": [
    "df['log_transformed_variable'] = np.log(df['length'] + 1)  # Adding 1 to handle zero values\n",
    "\n",
    "# Visualize the transformation\n",
    "plt.figure(figsize=(10, 6))\n",
    "sns.histplot(df['log_transformed_variable'], kde=True)\n",
    "plt.title(\"Histogram of Log-Transformed Variable\")\n",
    "plt.show()"
   ]
  },
  {
   "cell_type": "code",
   "execution_count": null,
   "id": "2760c1b4-bdf1-45de-a87d-cca7b4c82fac",
   "metadata": {},
   "outputs": [],
   "source": []
  }
 ],
 "metadata": {
  "kernelspec": {
   "display_name": "Python 3 (ipykernel)",
   "language": "python",
   "name": "python3"
  },
  "language_info": {
   "codemirror_mode": {
    "name": "ipython",
    "version": 3
   },
   "file_extension": ".py",
   "mimetype": "text/x-python",
   "name": "python",
   "nbconvert_exporter": "python",
   "pygments_lexer": "ipython3",
   "version": "3.12.1"
  }
 },
 "nbformat": 4,
 "nbformat_minor": 5
}
